{
 "cells": [
  {
   "cell_type": "markdown",
   "id": "database_test",
   "metadata": {},
   "source": [
    "# Database Connection Test\n",
    "\n",
    "This notebook tests the database connection and functionality for the Collatz data science project."
   ]
  },
  {
   "cell_type": "code",
   "execution_count": null,
   "id": "imports",
   "metadata": {},
   "outputs": [],
   "source": [
    "import sys\n",
    "import os\n",
    "\n",
    "# Add src directory to path\n",
    "sys.path.append(os.path.join(os.path.dirname(os.getcwd()), 'src'))\n",
    "\n",
    "from collatz.database import CollatzDatabase\n",
    "import pandas as pd"
   ]
  },
  {
   "cell_type": "code",
   "execution_count": null,
   "id": "test_connection",
   "metadata": {},
   "outputs": [
    {
     "name": "stdout",
     "output_type": "stream",
     "text": [
      "✅ Database connection successful!\n"
     ]
    }
   ],
   "source": [
    "# Test database connection\n",
    "try:\n",
    "    with CollatzDatabase() as db:\n",
    "        if db.check_connection():\n",
    "            print('✅ Database connection successful!')\n",
    "        else:\n",
    "            print('❌ Database connection failed')\n",
    "except Exception as e:\n",
    "    print(f'❌ Database connection error: {e}')\n",
    "    print('\\nMake sure to:')\n",
    "    print('1. Start the PostgreSQL database (docker-compose up -d database)')\n",
    "    print('2. Set up your .env file with correct database credentials')\n",
    "    print('3. Run the SQL setup scripts to create tables')"
   ]
  },
  {
   "cell_type": "code",
   "execution_count": null,
   "id": "test_small_insert",
   "metadata": {},
   "outputs": [
    {
     "name": "stdout",
     "output_type": "stream",
     "text": [
      "✅ Successfully inserted 1 test record(s)\n",
      "✅ Successfully retrieved 5 records from database\n",
      "\n",
      "Sample data:\n",
      "   id  starting_number  sequence_length  max_value  total_steps  \\\n",
      "0   1                1                1          1            0   \n",
      "1   2                2                2          2            0   \n",
      "2   3                3                8         16            3   \n",
      "3   4                4                3          4            0   \n",
      "4   5                5                6         16            1   \n",
      "\n",
      "   stopping_time                       created_at  \\\n",
      "0              1 2025-08-06 15:40:45.755135+00:00   \n",
      "1              2 2025-08-06 15:40:45.755135+00:00   \n",
      "2              8 2025-08-06 15:40:45.755135+00:00   \n",
      "3              3 2025-08-06 15:40:45.755135+00:00   \n",
      "4              6 2025-08-06 15:40:45.755135+00:00   \n",
      "\n",
      "                        updated_at  \n",
      "0 2025-08-06 19:05:54.928466+00:00  \n",
      "1 2025-08-06 19:05:54.928466+00:00  \n",
      "2 2025-08-06 19:05:54.928466+00:00  \n",
      "3 2025-08-06 19:05:54.928466+00:00  \n",
      "4 2025-08-06 19:05:54.928466+00:00  \n"
     ]
    },
    {
     "name": "stderr",
     "output_type": "stream",
     "text": [
      "d:\\Data Science\\collatz-data-science\\src\\collatz\\database.py:110: UserWarning: pandas only supports SQLAlchemy connectable (engine/connection) or database string URI or sqlite3 DBAPI2 connection. Other DBAPI2 objects are not tested. Please consider using SQLAlchemy.\n",
      "  return pd.read_sql_query(query, self.connection)\n"
     ]
    }
   ],
   "source": [
    "# Test inserting a small amount of data\n",
    "try:\n",
    "    test_data = [\n",
    "        {\n",
    "            'starting_number': 999999,\n",
    "            'sequence_length': 10,\n",
    "            'max_value': 50,\n",
    "            'total_steps': 9,\n",
    "            'stopping_time': 9\n",
    "        }\n",
    "    ]\n",
    "    \n",
    "    with CollatzDatabase() as db:\n",
    "        records_inserted = db.insert_collatz_sequences(test_data)\n",
    "        print(f'✅ Successfully inserted {records_inserted} test record(s)')\n",
    "        \n",
    "        # Test retrieving data\n",
    "        df = db.get_sequences_dataframe(limit=5)\n",
    "        print(f'✅ Successfully retrieved {len(df)} records from database')\n",
    "        print('\\nSample data:')\n",
    "        print(df.head())\n",
    "        \n",
    "except Exception as e:\n",
    "    print(f'❌ Database operation error: {e}')"
   ]
  },
  {
   "cell_type": "markdown",
   "id": "usage_info",
   "metadata": {},
   "source": [
    "## Usage Information\n",
    "\n",
    "If the tests above pass, you can now use the `save_to_database=True` parameter in the `generate_collatz_data()` function to automatically save your generated data to the PostgreSQL database.\n",
    "\n",
    "Example:\n",
    "```python\n",
    "df = generate_collatz_data(start=1, end=100, save_to_database=True)\n",
    "```\n",
    "\n",
    "This will save both the individual sequence data and analysis summary to the database."
   ]
  }
 ],
 "metadata": {
  "kernelspec": {
   "display_name": "collatz-data-science",
   "language": "python",
   "name": "python3"
  },
  "language_info": {
   "codemirror_mode": {
    "name": "ipython",
    "version": 3
   },
   "file_extension": ".py",
   "mimetype": "text/x-python",
   "name": "python",
   "nbconvert_exporter": "python",
   "pygments_lexer": "ipython3",
   "version": "3.11.13"
  }
 },
 "nbformat": 4,
 "nbformat_minor": 5
}

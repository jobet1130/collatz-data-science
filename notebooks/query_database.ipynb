{
 "cells": [
  {
   "cell_type": "markdown",
   "id": "title",
   "metadata": {},
   "source": [
    "# Query Collatz Database\n",
    "\n",
    "This notebook queries the PostgreSQL database to check if Collatz sequence data has been saved."
   ]
  },
  {
   "cell_type": "code",
   "execution_count": 29,
   "id": "imports",
   "metadata": {},
   "outputs": [],
   "source": [
    "import os\n",
    "import sys\n",
    "import pandas as pd\n",
    "from datetime import datetime\n",
    "\n",
    "# Add src to path\n",
    "sys.path.append(os.path.join('..', 'src'))\n",
    "\n",
    "from collatz.database import CollatzDatabase"
   ]
  },
  {
   "cell_type": "code",
   "execution_count": 30,
   "id": "connect_db",
   "metadata": {},
   "outputs": [
    {
     "name": "stdout",
     "output_type": "stream",
     "text": [
      "✅ Database connection successful!\n",
      "\n",
      "Available tables: ['active_experiments', 'analysis_results', 'batch_job_progress', 'batch_jobs', 'collatz_sequences', 'daily_processing_stats', 'experiment_status_overview', 'experiments', 'performance_metrics', 'performance_summary', 'recent_analysis_summary', 'sequence_length_distribution', 'sequence_statistics', 'sequence_steps', 'top_longest_sequences', 'top_peak_sequences']\n"
     ]
    }
   ],
   "source": [
    "# Initialize database connection\n",
    "db = CollatzDatabase()\n",
    "\n",
    "# Test connection\n",
    "try:\n",
    "    with db:\n",
    "        print('✅ Database connection successful!')\n",
    "        \n",
    "        # Check if tables exist\n",
    "        cursor = db.connection.cursor()\n",
    "        cursor.execute(\"\"\"\n",
    "            SELECT table_name \n",
    "            FROM information_schema.tables \n",
    "            WHERE table_schema = 'public' \n",
    "            ORDER BY table_name;\n",
    "        \"\"\")\n",
    "        tables = cursor.fetchall()\n",
    "        print(f'\\nAvailable tables: {[table[0] for table in tables]}')\n",
    "        cursor.close()\n",
    "except Exception as e:\n",
    "    print(f'❌ Database connection failed: {e}')"
   ]
  },
  {
   "cell_type": "code",
   "execution_count": 31,
   "id": "query_sequences",
   "metadata": {},
   "outputs": [
    {
     "name": "stdout",
     "output_type": "stream",
     "text": [
      "📊 Total sequences in database: 10,001\n",
      "📈 Range: 1 to 999999\n",
      "\n",
      "📋 Sample data (first 10 rows):\n",
      "   starting_number  sequence_length  max_value  total_steps  stopping_time  \\\n",
      "0                1                1          1            0              1   \n",
      "1                2                2          2            0              2   \n",
      "2                3                8         16            3              8   \n",
      "3                4                3          4            0              3   \n",
      "4                5                6         16            1              6   \n",
      "5                6                9         16            4              9   \n",
      "6                7               17         52            5             17   \n",
      "7                8                4          8            0              4   \n",
      "8                9               20         52            8             20   \n",
      "9               10                7         16            2              7   \n",
      "\n",
      "                        created_at  \n",
      "0 2025-08-06 23:40:45.755135+08:00  \n",
      "1 2025-08-06 23:40:45.755135+08:00  \n",
      "2 2025-08-06 23:40:45.755135+08:00  \n",
      "3 2025-08-06 23:40:45.755135+08:00  \n",
      "4 2025-08-06 23:40:45.755135+08:00  \n",
      "5 2025-08-06 23:40:45.755135+08:00  \n",
      "6 2025-08-06 23:40:45.755135+08:00  \n",
      "7 2025-08-06 23:40:45.755135+08:00  \n",
      "8 2025-08-06 23:40:45.755135+08:00  \n",
      "9 2025-08-06 23:40:45.755135+08:00  \n"
     ]
    }
   ],
   "source": [
    "# Query collatz_sequences table\n",
    "try:\n",
    "    with db:\n",
    "        cursor = db.connection.cursor()\n",
    "        \n",
    "        # Count total sequences\n",
    "        cursor.execute('SELECT COUNT(*) FROM collatz_sequences;')\n",
    "        total_count = cursor.fetchone()[0]\n",
    "        print(f'📊 Total sequences in database: {total_count:,}')\n",
    "        \n",
    "        if total_count > 0:\n",
    "            # Get range of starting numbers\n",
    "            cursor.execute(\"\"\"\n",
    "                SELECT MIN(starting_number), MAX(starting_number) \n",
    "                FROM collatz_sequences;\n",
    "            \"\"\")\n",
    "            min_num, max_num = cursor.fetchone()\n",
    "            print(f'📈 Range: {min_num} to {max_num}')\n",
    "            \n",
    "            # Get some sample data\n",
    "            cursor.execute(\"\"\"\n",
    "                SELECT starting_number, sequence_length, max_value, \n",
    "                       total_steps, stopping_time, created_at\n",
    "                FROM collatz_sequences \n",
    "                ORDER BY starting_number \n",
    "                LIMIT 10;\n",
    "            \"\"\")\n",
    "            \n",
    "            results = cursor.fetchall()\n",
    "            columns = ['starting_number', 'sequence_length', 'max_value', \n",
    "                      'total_steps', 'stopping_time', 'created_at']\n",
    "            \n",
    "            df_sample = pd.DataFrame(results, columns=columns)\n",
    "            print('\\n📋 Sample data (first 10 rows):')\n",
    "            print(df_sample)\n",
    "        \n",
    "        cursor.close()\n",
    "        \n",
    "except Exception as e:\n",
    "    print(f'❌ Error querying sequences: {e}')"
   ]
  },
  {
   "cell_type": "code",
   "execution_count": 32,
   "id": "query_analysis",
   "metadata": {},
   "outputs": [
    {
     "name": "stdout",
     "output_type": "stream",
     "text": [
      "\n",
      "🔬 Total analysis results: 3\n",
      "\n",
      "📊 Recent analysis results:\n",
      "           analysis_type  range_start  range_end  total_sequences  \\\n",
      "0    peak_value_analysis            1       1000             1000   \n",
      "1  sequence_distribution            1        100              100   \n",
      "2   basic_range_analysis            1         20               20   \n",
      "\n",
      "  avg_sequence_length  max_sequence_length                       created_at  \n",
      "0               15.23                  178 2025-08-06 23:40:45.755135+08:00  \n",
      "1               12.45                  118 2025-08-06 23:40:45.755135+08:00  \n",
      "2               10.15                   20 2025-08-06 23:40:45.755135+08:00  \n"
     ]
    }
   ],
   "source": [
    "# Query analysis_results table\n",
    "try:\n",
    "    with db:\n",
    "        cursor = db.connection.cursor()\n",
    "        \n",
    "        # Count analysis results\n",
    "        cursor.execute('SELECT COUNT(*) FROM analysis_results;')\n",
    "        analysis_count = cursor.fetchone()[0]\n",
    "        print(f'\\n🔬 Total analysis results: {analysis_count}')\n",
    "        \n",
    "        if analysis_count > 0:\n",
    "            # Get recent analysis results\n",
    "            cursor.execute(\"\"\"\n",
    "                SELECT analysis_type, range_start, range_end, \n",
    "                       total_sequences, avg_sequence_length, \n",
    "                       max_sequence_length, created_at\n",
    "                FROM analysis_results \n",
    "                ORDER BY created_at DESC \n",
    "                LIMIT 5;\n",
    "            \"\"\")\n",
    "            \n",
    "            results = cursor.fetchall()\n",
    "            columns = ['analysis_type', 'range_start', 'range_end', \n",
    "                      'total_sequences', 'avg_sequence_length', \n",
    "                      'max_sequence_length', 'created_at'] \n",
    "            \n",
    "            df_analysis = pd.DataFrame(results, columns=columns)\n",
    "            print('\\n📊 Recent analysis results:')\n",
    "            print(df_analysis)\n",
    "        \n",
    "        cursor.close()\n",
    "        \n",
    "except Exception as e:\n",
    "    print(f'❌ Error querying analysis results: {e}')"
   ]
  },
  {
   "cell_type": "code",
   "execution_count": 33,
   "id": "statistics",
   "metadata": {},
   "outputs": [
    {
     "name": "stdout",
     "output_type": "stream",
     "text": [
      "\n",
      "📈 Database Statistics:\n",
      "Average sequence length: 85.96\n",
      "Sequence length range: 1 - 262\n",
      "Average max value: 58990.59\n",
      "Max value range: 1 - 27114424\n"
     ]
    }
   ],
   "source": [
    "# Get database statistics\n",
    "try:\n",
    "    with db:\n",
    "        cursor = db.connection.cursor()\n",
    "        \n",
    "        # Get sequence statistics\n",
    "        cursor.execute(\"\"\"\n",
    "            SELECT \n",
    "                AVG(sequence_length) as avg_length,\n",
    "                MIN(sequence_length) as min_length,\n",
    "                MAX(sequence_length) as max_length,\n",
    "                AVG(max_value) as avg_max_value,\n",
    "                MIN(max_value) as min_max_value,\n",
    "                MAX(max_value) as max_max_value\n",
    "            FROM collatz_sequences;\n",
    "        \"\"\")\n",
    "        \n",
    "        stats = cursor.fetchone()\n",
    "        if stats and stats[0] is not None:\n",
    "            print('\\n📈 Database Statistics:')\n",
    "            print(f'Average sequence length: {stats[0]:.2f}')\n",
    "            print(f'Sequence length range: {stats[1]} - {stats[2]}')\n",
    "            print(f'Average max value: {stats[3]:.2f}')\n",
    "            print(f'Max value range: {stats[4]} - {stats[5]}')\n",
    "        \n",
    "        cursor.close()\n",
    "        \n",
    "except Exception as e:\n",
    "    print(f'❌ Error getting statistics: {e}')"
   ]
  },
  {
   "cell_type": "code",
   "execution_count": 34,
   "id": "recent_data",
   "metadata": {},
   "outputs": [
    {
     "name": "stdout",
     "output_type": "stream",
     "text": [
      "\n",
      "⏰ Sequences added in the last hour: 9981\n",
      "\n",
      "🕐 Most recent entries:\n",
      "  Starting number 999999: length 10, added at 2025-08-07 03:25:24.706893+08:00\n",
      "  Starting number 9979: length 74, added at 2025-08-07 02:45:13.884245+08:00\n",
      "  Starting number 9978: length 136, added at 2025-08-07 02:45:13.884245+08:00\n",
      "  Starting number 9961: length 74, added at 2025-08-07 02:45:13.884245+08:00\n",
      "  Starting number 9960: length 92, added at 2025-08-07 02:45:13.884245+08:00\n"
     ]
    }
   ],
   "source": [
    "# Check for recently added data\n",
    "try:\n",
    "    with db:\n",
    "        cursor = db.connection.cursor()\n",
    "        \n",
    "        # Get data added in the last hour\n",
    "        cursor.execute(\"\"\"\n",
    "            SELECT COUNT(*) \n",
    "            FROM collatz_sequences \n",
    "            WHERE created_at > NOW() - INTERVAL '1 hour';\n",
    "        \"\"\")\n",
    "        \n",
    "        recent_count = cursor.fetchone()[0]\n",
    "        print(f'\\n⏰ Sequences added in the last hour: {recent_count}')\n",
    "        \n",
    "        # Get the most recent entries\n",
    "        cursor.execute(\"\"\"\n",
    "            SELECT starting_number, sequence_length, created_at\n",
    "            FROM collatz_sequences \n",
    "            ORDER BY created_at DESC \n",
    "            LIMIT 5;\n",
    "        \"\"\")\n",
    "        \n",
    "        recent_data = cursor.fetchall()\n",
    "        if recent_data:\n",
    "            print('\\n🕐 Most recent entries:')\n",
    "            for row in recent_data:\n",
    "                print(f'  Starting number {row[0]}: length {row[1]}, added at {row[2]}')\n",
    "        \n",
    "        cursor.close()\n",
    "        \n",
    "except Exception as e:\n",
    "    print(f'❌ Error checking recent data: {e}')"
   ]
  }
 ],
 "metadata": {
  "kernelspec": {
   "display_name": "collatz-data-science",
   "language": "python",
   "name": "python3"
  },
  "language_info": {
   "codemirror_mode": {
    "name": "ipython",
    "version": 3
   },
   "file_extension": ".py",
   "mimetype": "text/x-python",
   "name": "python",
   "nbconvert_exporter": "python",
   "pygments_lexer": "ipython3",
   "version": "3.11.13"
  }
 },
 "nbformat": 4,
 "nbformat_minor": 5
}
